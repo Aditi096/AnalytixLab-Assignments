{
 "cells": [
  {
   "cell_type": "code",
   "execution_count": 159,
   "metadata": {
    "collapsed": false
   },
   "outputs": [
    {
     "name": "stdout",
     "output_type": "stream",
     "text": [
      "Populating the interactive namespace from numpy and matplotlib\n"
     ]
    }
   ],
   "source": [
    "%pylab inline\n",
    "import numpy as np\n",
    "import pandas as pd\n",
    "import seaborn as sns\n",
    "import matplotlib.pyplot as plt\n",
    "from sklearn.preprocessing import StandardScaler, OneHotEncoder, LabelEncoder\n",
    "from sklearn.cross_validation import train_test_split\n",
    "from sklearn.linear_model import LinearRegression, Lasso, Ridge, ElasticNet\n",
    "from sklearn.tree import DecisionTreeRegressor\n",
    "from sklearn.ensemble import AdaBoostRegressor, GradientBoostingRegressor, RandomForestRegressor\n",
    "from sklearn.metrics import mean_absolute_error, mean_squared_error"
   ]
  },
  {
   "cell_type": "markdown",
   "metadata": {},
   "source": [
    "# Importing train & test data"
   ]
  },
  {
   "cell_type": "code",
   "execution_count": 160,
   "metadata": {
    "collapsed": true
   },
   "outputs": [],
   "source": [
    "train = pd.read_csv('trainMerged.csv')\n",
    "train.IsHoliday = train.IsHoliday.astype(int)\n",
    "train['Type'] = LabelEncoder().fit_transform(train['Type'])"
   ]
  },
  {
   "cell_type": "code",
   "execution_count": 161,
   "metadata": {
    "collapsed": false
   },
   "outputs": [],
   "source": [
    "test = pd.read_csv('testMerged.csv')\n",
    "test.IsHoliday = test.IsHoliday.astype(int)\n",
    "test['Type'] = LabelEncoder().fit_transform(test['Type'])"
   ]
  },
  {
   "cell_type": "code",
   "execution_count": 162,
   "metadata": {
    "collapsed": false
   },
   "outputs": [
    {
     "data": {
      "text/html": [
       "<div>\n",
       "<table border=\"1\" class=\"dataframe\">\n",
       "  <thead>\n",
       "    <tr style=\"text-align: right;\">\n",
       "      <th></th>\n",
       "      <th>Store</th>\n",
       "      <th>IsHoliday</th>\n",
       "      <th>Dept</th>\n",
       "      <th>Weekly_Sales</th>\n",
       "      <th>Type</th>\n",
       "      <th>Size</th>\n",
       "      <th>Temperature</th>\n",
       "      <th>Fuel_Price</th>\n",
       "      <th>MarkDown1</th>\n",
       "      <th>MarkDown2</th>\n",
       "      <th>MarkDown3</th>\n",
       "      <th>MarkDown4</th>\n",
       "      <th>MarkDown5</th>\n",
       "      <th>CPI</th>\n",
       "      <th>Unemployment</th>\n",
       "    </tr>\n",
       "  </thead>\n",
       "  <tbody>\n",
       "    <tr>\n",
       "      <th>count</th>\n",
       "      <td>421570.000000</td>\n",
       "      <td>421570.000000</td>\n",
       "      <td>421570.000000</td>\n",
       "      <td>421570.000000</td>\n",
       "      <td>421570.000000</td>\n",
       "      <td>421570.000000</td>\n",
       "      <td>421570.000000</td>\n",
       "      <td>421570.000000</td>\n",
       "      <td>150681.000000</td>\n",
       "      <td>111248.000000</td>\n",
       "      <td>137091.000000</td>\n",
       "      <td>134967.000000</td>\n",
       "      <td>151432.000000</td>\n",
       "      <td>421570.000000</td>\n",
       "      <td>421570.000000</td>\n",
       "    </tr>\n",
       "    <tr>\n",
       "      <th>mean</th>\n",
       "      <td>22.200546</td>\n",
       "      <td>0.070358</td>\n",
       "      <td>44.260317</td>\n",
       "      <td>15981.258123</td>\n",
       "      <td>0.589912</td>\n",
       "      <td>136727.915739</td>\n",
       "      <td>60.090059</td>\n",
       "      <td>3.361027</td>\n",
       "      <td>7246.420196</td>\n",
       "      <td>3334.628621</td>\n",
       "      <td>1439.421384</td>\n",
       "      <td>3383.168256</td>\n",
       "      <td>4628.975079</td>\n",
       "      <td>171.201947</td>\n",
       "      <td>7.960289</td>\n",
       "    </tr>\n",
       "    <tr>\n",
       "      <th>std</th>\n",
       "      <td>12.785297</td>\n",
       "      <td>0.255750</td>\n",
       "      <td>30.492054</td>\n",
       "      <td>22711.183519</td>\n",
       "      <td>0.666337</td>\n",
       "      <td>60980.583328</td>\n",
       "      <td>18.447931</td>\n",
       "      <td>0.458515</td>\n",
       "      <td>8291.221345</td>\n",
       "      <td>9475.357325</td>\n",
       "      <td>9623.078290</td>\n",
       "      <td>6292.384031</td>\n",
       "      <td>5962.887455</td>\n",
       "      <td>39.159276</td>\n",
       "      <td>1.863296</td>\n",
       "    </tr>\n",
       "    <tr>\n",
       "      <th>min</th>\n",
       "      <td>1.000000</td>\n",
       "      <td>0.000000</td>\n",
       "      <td>1.000000</td>\n",
       "      <td>-4988.940000</td>\n",
       "      <td>0.000000</td>\n",
       "      <td>34875.000000</td>\n",
       "      <td>-2.060000</td>\n",
       "      <td>2.472000</td>\n",
       "      <td>0.270000</td>\n",
       "      <td>-265.760000</td>\n",
       "      <td>-29.100000</td>\n",
       "      <td>0.220000</td>\n",
       "      <td>135.160000</td>\n",
       "      <td>126.064000</td>\n",
       "      <td>3.879000</td>\n",
       "    </tr>\n",
       "    <tr>\n",
       "      <th>25%</th>\n",
       "      <td>11.000000</td>\n",
       "      <td>0.000000</td>\n",
       "      <td>18.000000</td>\n",
       "      <td>2079.650000</td>\n",
       "      <td>0.000000</td>\n",
       "      <td>93638.000000</td>\n",
       "      <td>46.680000</td>\n",
       "      <td>2.933000</td>\n",
       "      <td>2240.270000</td>\n",
       "      <td>41.600000</td>\n",
       "      <td>5.080000</td>\n",
       "      <td>504.220000</td>\n",
       "      <td>1878.440000</td>\n",
       "      <td>132.022667</td>\n",
       "      <td>6.891000</td>\n",
       "    </tr>\n",
       "    <tr>\n",
       "      <th>50%</th>\n",
       "      <td>22.000000</td>\n",
       "      <td>0.000000</td>\n",
       "      <td>37.000000</td>\n",
       "      <td>7612.030000</td>\n",
       "      <td>0.000000</td>\n",
       "      <td>140167.000000</td>\n",
       "      <td>62.090000</td>\n",
       "      <td>3.452000</td>\n",
       "      <td>5347.450000</td>\n",
       "      <td>192.000000</td>\n",
       "      <td>24.600000</td>\n",
       "      <td>1481.310000</td>\n",
       "      <td>3359.450000</td>\n",
       "      <td>182.318780</td>\n",
       "      <td>7.866000</td>\n",
       "    </tr>\n",
       "    <tr>\n",
       "      <th>75%</th>\n",
       "      <td>33.000000</td>\n",
       "      <td>0.000000</td>\n",
       "      <td>74.000000</td>\n",
       "      <td>20205.852500</td>\n",
       "      <td>1.000000</td>\n",
       "      <td>202505.000000</td>\n",
       "      <td>74.280000</td>\n",
       "      <td>3.738000</td>\n",
       "      <td>9210.900000</td>\n",
       "      <td>1926.940000</td>\n",
       "      <td>103.990000</td>\n",
       "      <td>3595.040000</td>\n",
       "      <td>5563.800000</td>\n",
       "      <td>212.416993</td>\n",
       "      <td>8.572000</td>\n",
       "    </tr>\n",
       "    <tr>\n",
       "      <th>max</th>\n",
       "      <td>45.000000</td>\n",
       "      <td>1.000000</td>\n",
       "      <td>99.000000</td>\n",
       "      <td>693099.360000</td>\n",
       "      <td>2.000000</td>\n",
       "      <td>219622.000000</td>\n",
       "      <td>100.140000</td>\n",
       "      <td>4.468000</td>\n",
       "      <td>88646.760000</td>\n",
       "      <td>104519.540000</td>\n",
       "      <td>141630.610000</td>\n",
       "      <td>67474.850000</td>\n",
       "      <td>108519.280000</td>\n",
       "      <td>227.232807</td>\n",
       "      <td>14.313000</td>\n",
       "    </tr>\n",
       "  </tbody>\n",
       "</table>\n",
       "</div>"
      ],
      "text/plain": [
       "               Store      IsHoliday           Dept   Weekly_Sales  \\\n",
       "count  421570.000000  421570.000000  421570.000000  421570.000000   \n",
       "mean       22.200546       0.070358      44.260317   15981.258123   \n",
       "std        12.785297       0.255750      30.492054   22711.183519   \n",
       "min         1.000000       0.000000       1.000000   -4988.940000   \n",
       "25%        11.000000       0.000000      18.000000    2079.650000   \n",
       "50%        22.000000       0.000000      37.000000    7612.030000   \n",
       "75%        33.000000       0.000000      74.000000   20205.852500   \n",
       "max        45.000000       1.000000      99.000000  693099.360000   \n",
       "\n",
       "                Type           Size    Temperature     Fuel_Price  \\\n",
       "count  421570.000000  421570.000000  421570.000000  421570.000000   \n",
       "mean        0.589912  136727.915739      60.090059       3.361027   \n",
       "std         0.666337   60980.583328      18.447931       0.458515   \n",
       "min         0.000000   34875.000000      -2.060000       2.472000   \n",
       "25%         0.000000   93638.000000      46.680000       2.933000   \n",
       "50%         0.000000  140167.000000      62.090000       3.452000   \n",
       "75%         1.000000  202505.000000      74.280000       3.738000   \n",
       "max         2.000000  219622.000000     100.140000       4.468000   \n",
       "\n",
       "           MarkDown1      MarkDown2      MarkDown3      MarkDown4  \\\n",
       "count  150681.000000  111248.000000  137091.000000  134967.000000   \n",
       "mean     7246.420196    3334.628621    1439.421384    3383.168256   \n",
       "std      8291.221345    9475.357325    9623.078290    6292.384031   \n",
       "min         0.270000    -265.760000     -29.100000       0.220000   \n",
       "25%      2240.270000      41.600000       5.080000     504.220000   \n",
       "50%      5347.450000     192.000000      24.600000    1481.310000   \n",
       "75%      9210.900000    1926.940000     103.990000    3595.040000   \n",
       "max     88646.760000  104519.540000  141630.610000   67474.850000   \n",
       "\n",
       "           MarkDown5            CPI   Unemployment  \n",
       "count  151432.000000  421570.000000  421570.000000  \n",
       "mean     4628.975079     171.201947       7.960289  \n",
       "std      5962.887455      39.159276       1.863296  \n",
       "min       135.160000     126.064000       3.879000  \n",
       "25%      1878.440000     132.022667       6.891000  \n",
       "50%      3359.450000     182.318780       7.866000  \n",
       "75%      5563.800000     212.416993       8.572000  \n",
       "max    108519.280000     227.232807      14.313000  "
      ]
     },
     "execution_count": 162,
     "metadata": {},
     "output_type": "execute_result"
    }
   ],
   "source": [
    "train.describe()"
   ]
  },
  {
   "cell_type": "code",
   "execution_count": 163,
   "metadata": {
    "collapsed": false
   },
   "outputs": [
    {
     "data": {
      "text/html": [
       "<div>\n",
       "<table border=\"1\" class=\"dataframe\">\n",
       "  <thead>\n",
       "    <tr style=\"text-align: right;\">\n",
       "      <th></th>\n",
       "      <th>Store</th>\n",
       "      <th>IsHoliday</th>\n",
       "      <th>Dept</th>\n",
       "      <th>Type</th>\n",
       "      <th>Size</th>\n",
       "      <th>Temperature</th>\n",
       "      <th>Fuel_Price</th>\n",
       "      <th>MarkDown1</th>\n",
       "      <th>MarkDown2</th>\n",
       "      <th>MarkDown3</th>\n",
       "      <th>MarkDown4</th>\n",
       "      <th>MarkDown5</th>\n",
       "      <th>CPI</th>\n",
       "      <th>Unemployment</th>\n",
       "    </tr>\n",
       "  </thead>\n",
       "  <tbody>\n",
       "    <tr>\n",
       "      <th>count</th>\n",
       "      <td>115064.000000</td>\n",
       "      <td>115064.000000</td>\n",
       "      <td>115064.000000</td>\n",
       "      <td>115064.000000</td>\n",
       "      <td>115064.000000</td>\n",
       "      <td>115064.000000</td>\n",
       "      <td>115064.000000</td>\n",
       "      <td>114915.000000</td>\n",
       "      <td>86437.000000</td>\n",
       "      <td>105235.000000</td>\n",
       "      <td>102176.000000</td>\n",
       "      <td>115064.000000</td>\n",
       "      <td>76902.000000</td>\n",
       "      <td>76902.000000</td>\n",
       "    </tr>\n",
       "    <tr>\n",
       "      <th>mean</th>\n",
       "      <td>22.238207</td>\n",
       "      <td>0.077592</td>\n",
       "      <td>44.339524</td>\n",
       "      <td>0.592731</td>\n",
       "      <td>136497.688921</td>\n",
       "      <td>53.941804</td>\n",
       "      <td>3.581546</td>\n",
       "      <td>7689.216439</td>\n",
       "      <td>3734.051729</td>\n",
       "      <td>2403.088666</td>\n",
       "      <td>3356.219071</td>\n",
       "      <td>3922.681189</td>\n",
       "      <td>176.961347</td>\n",
       "      <td>6.868733</td>\n",
       "    </tr>\n",
       "    <tr>\n",
       "      <th>std</th>\n",
       "      <td>12.809930</td>\n",
       "      <td>0.267529</td>\n",
       "      <td>30.656410</td>\n",
       "      <td>0.668876</td>\n",
       "      <td>61106.926438</td>\n",
       "      <td>18.724153</td>\n",
       "      <td>0.239442</td>\n",
       "      <td>10698.760716</td>\n",
       "      <td>8323.495014</td>\n",
       "      <td>13767.939313</td>\n",
       "      <td>7570.501545</td>\n",
       "      <td>19445.150745</td>\n",
       "      <td>41.239967</td>\n",
       "      <td>1.583427</td>\n",
       "    </tr>\n",
       "    <tr>\n",
       "      <th>min</th>\n",
       "      <td>1.000000</td>\n",
       "      <td>0.000000</td>\n",
       "      <td>1.000000</td>\n",
       "      <td>0.000000</td>\n",
       "      <td>34875.000000</td>\n",
       "      <td>-7.290000</td>\n",
       "      <td>2.872000</td>\n",
       "      <td>-2781.450000</td>\n",
       "      <td>-35.740000</td>\n",
       "      <td>-179.260000</td>\n",
       "      <td>0.220000</td>\n",
       "      <td>-185.170000</td>\n",
       "      <td>131.236226</td>\n",
       "      <td>3.684000</td>\n",
       "    </tr>\n",
       "    <tr>\n",
       "      <th>25%</th>\n",
       "      <td>11.000000</td>\n",
       "      <td>0.000000</td>\n",
       "      <td>18.000000</td>\n",
       "      <td>0.000000</td>\n",
       "      <td>93638.000000</td>\n",
       "      <td>39.820000</td>\n",
       "      <td>3.431000</td>\n",
       "      <td>1966.460000</td>\n",
       "      <td>180.350000</td>\n",
       "      <td>15.100000</td>\n",
       "      <td>155.460000</td>\n",
       "      <td>1309.300000</td>\n",
       "      <td>138.402033</td>\n",
       "      <td>5.771000</td>\n",
       "    </tr>\n",
       "    <tr>\n",
       "      <th>50%</th>\n",
       "      <td>22.000000</td>\n",
       "      <td>0.000000</td>\n",
       "      <td>37.000000</td>\n",
       "      <td>0.000000</td>\n",
       "      <td>140167.000000</td>\n",
       "      <td>54.470000</td>\n",
       "      <td>3.606000</td>\n",
       "      <td>4842.290000</td>\n",
       "      <td>742.590000</td>\n",
       "      <td>78.260000</td>\n",
       "      <td>840.940000</td>\n",
       "      <td>2390.430000</td>\n",
       "      <td>192.304445</td>\n",
       "      <td>6.806000</td>\n",
       "    </tr>\n",
       "    <tr>\n",
       "      <th>75%</th>\n",
       "      <td>33.000000</td>\n",
       "      <td>0.000000</td>\n",
       "      <td>74.000000</td>\n",
       "      <td>1.000000</td>\n",
       "      <td>202505.000000</td>\n",
       "      <td>67.350000</td>\n",
       "      <td>3.766000</td>\n",
       "      <td>9439.140000</td>\n",
       "      <td>2735.670000</td>\n",
       "      <td>272.580000</td>\n",
       "      <td>3096.920000</td>\n",
       "      <td>4227.270000</td>\n",
       "      <td>223.244532</td>\n",
       "      <td>8.036000</td>\n",
       "    </tr>\n",
       "    <tr>\n",
       "      <th>max</th>\n",
       "      <td>45.000000</td>\n",
       "      <td>1.000000</td>\n",
       "      <td>99.000000</td>\n",
       "      <td>2.000000</td>\n",
       "      <td>219622.000000</td>\n",
       "      <td>101.950000</td>\n",
       "      <td>4.125000</td>\n",
       "      <td>103184.980000</td>\n",
       "      <td>71074.170000</td>\n",
       "      <td>149483.310000</td>\n",
       "      <td>65344.640000</td>\n",
       "      <td>771448.100000</td>\n",
       "      <td>228.976456</td>\n",
       "      <td>10.199000</td>\n",
       "    </tr>\n",
       "  </tbody>\n",
       "</table>\n",
       "</div>"
      ],
      "text/plain": [
       "               Store      IsHoliday           Dept           Type  \\\n",
       "count  115064.000000  115064.000000  115064.000000  115064.000000   \n",
       "mean       22.238207       0.077592      44.339524       0.592731   \n",
       "std        12.809930       0.267529      30.656410       0.668876   \n",
       "min         1.000000       0.000000       1.000000       0.000000   \n",
       "25%        11.000000       0.000000      18.000000       0.000000   \n",
       "50%        22.000000       0.000000      37.000000       0.000000   \n",
       "75%        33.000000       0.000000      74.000000       1.000000   \n",
       "max        45.000000       1.000000      99.000000       2.000000   \n",
       "\n",
       "                Size    Temperature     Fuel_Price      MarkDown1  \\\n",
       "count  115064.000000  115064.000000  115064.000000  114915.000000   \n",
       "mean   136497.688921      53.941804       3.581546    7689.216439   \n",
       "std     61106.926438      18.724153       0.239442   10698.760716   \n",
       "min     34875.000000      -7.290000       2.872000   -2781.450000   \n",
       "25%     93638.000000      39.820000       3.431000    1966.460000   \n",
       "50%    140167.000000      54.470000       3.606000    4842.290000   \n",
       "75%    202505.000000      67.350000       3.766000    9439.140000   \n",
       "max    219622.000000     101.950000       4.125000  103184.980000   \n",
       "\n",
       "          MarkDown2      MarkDown3      MarkDown4      MarkDown5  \\\n",
       "count  86437.000000  105235.000000  102176.000000  115064.000000   \n",
       "mean    3734.051729    2403.088666    3356.219071    3922.681189   \n",
       "std     8323.495014   13767.939313    7570.501545   19445.150745   \n",
       "min      -35.740000    -179.260000       0.220000    -185.170000   \n",
       "25%      180.350000      15.100000     155.460000    1309.300000   \n",
       "50%      742.590000      78.260000     840.940000    2390.430000   \n",
       "75%     2735.670000     272.580000    3096.920000    4227.270000   \n",
       "max    71074.170000  149483.310000   65344.640000  771448.100000   \n",
       "\n",
       "                CPI  Unemployment  \n",
       "count  76902.000000  76902.000000  \n",
       "mean     176.961347      6.868733  \n",
       "std       41.239967      1.583427  \n",
       "min      131.236226      3.684000  \n",
       "25%      138.402033      5.771000  \n",
       "50%      192.304445      6.806000  \n",
       "75%      223.244532      8.036000  \n",
       "max      228.976456     10.199000  "
      ]
     },
     "execution_count": 163,
     "metadata": {},
     "output_type": "execute_result"
    }
   ],
   "source": [
    "test.describe()"
   ]
  },
  {
   "cell_type": "markdown",
   "metadata": {},
   "source": [
    "# Imputing the missing values with regression technique for MarkDown's"
   ]
  },
  {
   "cell_type": "code",
   "execution_count": 164,
   "metadata": {
    "collapsed": false
   },
   "outputs": [
    {
     "name": "stderr",
     "output_type": "stream",
     "text": [
      "C:\\ProgramData\\Anaconda2.1\\lib\\site-packages\\ipykernel\\__main__.py:2: SettingWithCopyWarning: \n",
      "A value is trying to be set on a copy of a slice from a DataFrame\n",
      "\n",
      "See the caveats in the documentation: http://pandas.pydata.org/pandas-docs/stable/indexing.html#indexing-view-versus-copy\n",
      "  from ipykernel import kernelapp as app\n"
     ]
    }
   ],
   "source": [
    "t1 = train.dropna()\n",
    "t1.drop(['Weekly_Sales'], axis=1, inplace=1)"
   ]
  },
  {
   "cell_type": "code",
   "execution_count": 165,
   "metadata": {
    "collapsed": false
   },
   "outputs": [],
   "source": [
    "combine = pd.concat([t1, test], axis=0)\n",
    "combine.dropna(inplace=1)"
   ]
  },
  {
   "cell_type": "code",
   "execution_count": 166,
   "metadata": {
    "collapsed": false
   },
   "outputs": [],
   "source": [
    "X = combine.drop(['Date', 'MarkDown1', 'MarkDown2', 'MarkDown3', 'MarkDown4', 'MarkDown5', 'CPI', 'Unemployment'], axis=1)\n",
    "Y1 = combine.MarkDown1\n",
    "Y2 = combine.MarkDown2\n",
    "Y3 = combine.MarkDown3\n",
    "Y4 = combine.MarkDown4\n",
    "Y5 = combine.MarkDown5\n",
    "lm1 = LinearRegression().fit(X,Y1)\n",
    "lm2 = LinearRegression().fit(X,Y2)\n",
    "lm3 = LinearRegression().fit(X,Y3)\n",
    "lm4 = LinearRegression().fit(X,Y4)\n",
    "lm5 = LinearRegression().fit(X,Y5)"
   ]
  },
  {
   "cell_type": "code",
   "execution_count": 167,
   "metadata": {
    "collapsed": false
   },
   "outputs": [],
   "source": [
    "train.MarkDown1 = np.where(train.MarkDown1.isnull() == 1, lm1.predict(train[X.columns]), train.MarkDown1)\n",
    "train.MarkDown2 = np.where(train.MarkDown2.isnull() == 1, lm2.predict(train[X.columns]), train.MarkDown2)\n",
    "train.MarkDown3 = np.where(train.MarkDown3.isnull() == 1, lm3.predict(train[X.columns]), train.MarkDown3)\n",
    "train.MarkDown4 = np.where(train.MarkDown4.isnull() == 1, lm4.predict(train[X.columns]), train.MarkDown4)\n",
    "train.MarkDown5 = np.where(train.MarkDown5.isnull() == 1, lm5.predict(train[X.columns]), train.MarkDown5)"
   ]
  },
  {
   "cell_type": "code",
   "execution_count": 168,
   "metadata": {
    "collapsed": false
   },
   "outputs": [],
   "source": [
    "test.MarkDown1 = np.where(test.MarkDown1.isnull() == 1, lm1.predict(test[X.columns]), test.MarkDown1)\n",
    "test.MarkDown2 = np.where(test.MarkDown2.isnull() == 1, lm2.predict(test[X.columns]), test.MarkDown2)\n",
    "test.MarkDown3 = np.where(test.MarkDown3.isnull() == 1, lm3.predict(test[X.columns]), test.MarkDown3)\n",
    "test.MarkDown4 = np.where(test.MarkDown4.isnull() == 1, lm4.predict(test[X.columns]), test.MarkDown4)\n",
    "test.MarkDown5 = np.where(test.MarkDown5.isnull() == 1, lm5.predict(test[X.columns]), test.MarkDown5)"
   ]
  },
  {
   "cell_type": "code",
   "execution_count": 169,
   "metadata": {
    "collapsed": false
   },
   "outputs": [
    {
     "data": {
      "text/plain": [
       "(421570, 16)"
      ]
     },
     "execution_count": 169,
     "metadata": {},
     "output_type": "execute_result"
    }
   ],
   "source": [
    "train.shape"
   ]
  },
  {
   "cell_type": "code",
   "execution_count": 170,
   "metadata": {
    "collapsed": false
   },
   "outputs": [
    {
     "data": {
      "text/html": [
       "<div>\n",
       "<table border=\"1\" class=\"dataframe\">\n",
       "  <thead>\n",
       "    <tr style=\"text-align: right;\">\n",
       "      <th></th>\n",
       "      <th>Store</th>\n",
       "      <th>Date</th>\n",
       "      <th>IsHoliday</th>\n",
       "      <th>Dept</th>\n",
       "      <th>Weekly_Sales</th>\n",
       "      <th>Type</th>\n",
       "      <th>Size</th>\n",
       "      <th>Temperature</th>\n",
       "      <th>Fuel_Price</th>\n",
       "      <th>MarkDown1</th>\n",
       "      <th>MarkDown2</th>\n",
       "      <th>MarkDown3</th>\n",
       "      <th>MarkDown4</th>\n",
       "      <th>MarkDown5</th>\n",
       "      <th>CPI</th>\n",
       "      <th>Unemployment</th>\n",
       "    </tr>\n",
       "  </thead>\n",
       "  <tbody>\n",
       "    <tr>\n",
       "      <th>0</th>\n",
       "      <td>10</td>\n",
       "      <td>2010-02-05</td>\n",
       "      <td>0</td>\n",
       "      <td>1</td>\n",
       "      <td>40212.84</td>\n",
       "      <td>1</td>\n",
       "      <td>126512</td>\n",
       "      <td>54.34</td>\n",
       "      <td>2.962</td>\n",
       "      <td>5840.702502</td>\n",
       "      <td>7802.533441</td>\n",
       "      <td>205.514784</td>\n",
       "      <td>3540.290087</td>\n",
       "      <td>4946.010778</td>\n",
       "      <td>126.442065</td>\n",
       "      <td>9.765</td>\n",
       "    </tr>\n",
       "    <tr>\n",
       "      <th>1</th>\n",
       "      <td>10</td>\n",
       "      <td>2010-02-05</td>\n",
       "      <td>0</td>\n",
       "      <td>98</td>\n",
       "      <td>74.00</td>\n",
       "      <td>1</td>\n",
       "      <td>126512</td>\n",
       "      <td>54.34</td>\n",
       "      <td>2.962</td>\n",
       "      <td>5842.381997</td>\n",
       "      <td>7767.112350</td>\n",
       "      <td>244.917351</td>\n",
       "      <td>3570.015842</td>\n",
       "      <td>4963.893868</td>\n",
       "      <td>126.442065</td>\n",
       "      <td>9.765</td>\n",
       "    </tr>\n",
       "    <tr>\n",
       "      <th>2</th>\n",
       "      <td>10</td>\n",
       "      <td>2010-02-05</td>\n",
       "      <td>0</td>\n",
       "      <td>32</td>\n",
       "      <td>26116.73</td>\n",
       "      <td>1</td>\n",
       "      <td>126512</td>\n",
       "      <td>54.34</td>\n",
       "      <td>2.962</td>\n",
       "      <td>5841.239248</td>\n",
       "      <td>7791.213299</td>\n",
       "      <td>218.107357</td>\n",
       "      <td>3549.790071</td>\n",
       "      <td>4951.725992</td>\n",
       "      <td>126.442065</td>\n",
       "      <td>9.765</td>\n",
       "    </tr>\n",
       "    <tr>\n",
       "      <th>3</th>\n",
       "      <td>10</td>\n",
       "      <td>2010-02-05</td>\n",
       "      <td>0</td>\n",
       "      <td>25</td>\n",
       "      <td>20779.50</td>\n",
       "      <td>1</td>\n",
       "      <td>126512</td>\n",
       "      <td>54.34</td>\n",
       "      <td>2.962</td>\n",
       "      <td>5841.118047</td>\n",
       "      <td>7793.769460</td>\n",
       "      <td>215.263872</td>\n",
       "      <td>3547.644913</td>\n",
       "      <td>4950.435460</td>\n",
       "      <td>126.442065</td>\n",
       "      <td>9.765</td>\n",
       "    </tr>\n",
       "    <tr>\n",
       "      <th>4</th>\n",
       "      <td>10</td>\n",
       "      <td>2010-02-05</td>\n",
       "      <td>0</td>\n",
       "      <td>34</td>\n",
       "      <td>50585.42</td>\n",
       "      <td>1</td>\n",
       "      <td>126512</td>\n",
       "      <td>54.34</td>\n",
       "      <td>2.962</td>\n",
       "      <td>5841.273876</td>\n",
       "      <td>7790.482967</td>\n",
       "      <td>218.919781</td>\n",
       "      <td>3550.402973</td>\n",
       "      <td>4952.094716</td>\n",
       "      <td>126.442065</td>\n",
       "      <td>9.765</td>\n",
       "    </tr>\n",
       "  </tbody>\n",
       "</table>\n",
       "</div>"
      ],
      "text/plain": [
       "   Store        Date  IsHoliday  Dept  Weekly_Sales  Type    Size  \\\n",
       "0     10  2010-02-05          0     1      40212.84     1  126512   \n",
       "1     10  2010-02-05          0    98         74.00     1  126512   \n",
       "2     10  2010-02-05          0    32      26116.73     1  126512   \n",
       "3     10  2010-02-05          0    25      20779.50     1  126512   \n",
       "4     10  2010-02-05          0    34      50585.42     1  126512   \n",
       "\n",
       "   Temperature  Fuel_Price    MarkDown1    MarkDown2   MarkDown3    MarkDown4  \\\n",
       "0        54.34       2.962  5840.702502  7802.533441  205.514784  3540.290087   \n",
       "1        54.34       2.962  5842.381997  7767.112350  244.917351  3570.015842   \n",
       "2        54.34       2.962  5841.239248  7791.213299  218.107357  3549.790071   \n",
       "3        54.34       2.962  5841.118047  7793.769460  215.263872  3547.644913   \n",
       "4        54.34       2.962  5841.273876  7790.482967  218.919781  3550.402973   \n",
       "\n",
       "     MarkDown5         CPI  Unemployment  \n",
       "0  4946.010778  126.442065         9.765  \n",
       "1  4963.893868  126.442065         9.765  \n",
       "2  4951.725992  126.442065         9.765  \n",
       "3  4950.435460  126.442065         9.765  \n",
       "4  4952.094716  126.442065         9.765  "
      ]
     },
     "execution_count": 170,
     "metadata": {},
     "output_type": "execute_result"
    }
   ],
   "source": [
    "train.head()"
   ]
  },
  {
   "cell_type": "code",
   "execution_count": 172,
   "metadata": {
    "collapsed": false
   },
   "outputs": [
    {
     "data": {
      "text/plain": [
       "Store             int64\n",
       "Date             object\n",
       "IsHoliday         int32\n",
       "Dept              int64\n",
       "Weekly_Sales    float64\n",
       "Type              int64\n",
       "Size              int64\n",
       "Temperature     float64\n",
       "Fuel_Price      float64\n",
       "MarkDown1       float64\n",
       "MarkDown2       float64\n",
       "MarkDown3       float64\n",
       "MarkDown4       float64\n",
       "MarkDown5       float64\n",
       "CPI             float64\n",
       "Unemployment    float64\n",
       "dtype: object"
      ]
     },
     "execution_count": 172,
     "metadata": {},
     "output_type": "execute_result"
    }
   ],
   "source": [
    "train.dtypes"
   ]
  },
  {
   "cell_type": "markdown",
   "metadata": {},
   "source": [
    "# Removing outliers"
   ]
  },
  {
   "cell_type": "code",
   "execution_count": 173,
   "metadata": {
    "collapsed": false
   },
   "outputs": [],
   "source": [
    "train.Weekly_Sales = np.where(train.Weekly_Sales>100000, 100000, train.Weekly_Sales)"
   ]
  },
  {
   "cell_type": "code",
   "execution_count": 177,
   "metadata": {
    "collapsed": false
   },
   "outputs": [
    {
     "data": {
      "text/plain": [
       "<matplotlib.axes._subplots.AxesSubplot at 0x25babeb8>"
      ]
     },
     "execution_count": 177,
     "metadata": {},
     "output_type": "execute_result"
    },
    {
     "data": {
      "image/png": "[encoded data removed]",
      "text/plain": [
       "<matplotlib.figure.Figure at 0x1ac20ac8>"
      ]
     },
     "metadata": {},
     "output_type": "display_data"
    }
   ],
   "source": [
    "Y.plot.hist(bins=25)"
   ]
  },
  {
   "cell_type": "markdown",
   "metadata": {},
   "source": [
    "# Splitting the train data further into Train and Test"
   ]
  },
  {
   "cell_type": "code",
   "execution_count": 174,
   "metadata": {
    "collapsed": false
   },
   "outputs": [],
   "source": [
    "X1 = train.drop(['Date', 'CPI', 'Unemployment', 'Weekly_Sales', 'MarkDown3'], axis=1)\n",
    "Y = train.Weekly_Sales\n",
    "Xtrain, Xtest, Ytrain, Ytest = train_test_split(X1, Y, train_size=0.70, random_state=125)\n",
    "sc = StandardScaler().fit(Xtrain)\n",
    "sc_train = sc.transform(Xtrain)\n",
    "sc_test = sc.transform(Xtest)"
   ]
  },
  {
   "cell_type": "markdown",
   "metadata": {},
   "source": [
    "# Building models & comparing their RMSE values"
   ]
  },
  {
   "cell_type": "code",
   "execution_count": 175,
   "metadata": {
    "collapsed": false
   },
   "outputs": [],
   "source": [
    "lm = LinearRegression().fit(sc_train,Ytrain)"
   ]
  },
  {
   "cell_type": "code",
   "execution_count": 176,
   "metadata": {
    "collapsed": false
   },
   "outputs": [
    {
     "name": "stdout",
     "output_type": "stream",
     "text": [
      "19558.038524\n",
      "19559.5927839\n"
     ]
    }
   ],
   "source": [
    "print np.sqrt(mean_squared_error(lm.predict(sc_train),Ytrain))\n",
    "print np.sqrt(mean_squared_error(lm.predict(sc_test),Ytest))"
   ]
  },
  {
   "cell_type": "code",
   "execution_count": 178,
   "metadata": {
    "collapsed": true
   },
   "outputs": [],
   "source": [
    "dt = DecisionTreeRegressor(max_depth=14).fit(sc_train,Ytrain)"
   ]
  },
  {
   "cell_type": "code",
   "execution_count": 179,
   "metadata": {
    "collapsed": false
   },
   "outputs": [
    {
     "name": "stdout",
     "output_type": "stream",
     "text": [
      "4831.54538447\n",
      "5519.59943417\n"
     ]
    }
   ],
   "source": [
    "print np.sqrt(mean_squared_error(dt.predict(sc_train),Ytrain))\n",
    "print np.sqrt(mean_squared_error(dt.predict(sc_test),Ytest))"
   ]
  },
  {
   "cell_type": "code",
   "execution_count": 180,
   "metadata": {
    "collapsed": true
   },
   "outputs": [],
   "source": [
    "ad = AdaBoostRegressor().fit(sc_train,Ytrain)"
   ]
  },
  {
   "cell_type": "code",
   "execution_count": 181,
   "metadata": {
    "collapsed": false
   },
   "outputs": [
    {
     "name": "stdout",
     "output_type": "stream",
     "text": [
      "18886.4124846\n",
      "18894.4283919\n"
     ]
    }
   ],
   "source": [
    "print np.sqrt(mean_squared_error(ad.predict(sc_train),Ytrain))\n",
    "print np.sqrt(mean_squared_error(ad.predict(sc_test),Ytest))"
   ]
  },
  {
   "cell_type": "code",
   "execution_count": 182,
   "metadata": {
    "collapsed": true
   },
   "outputs": [],
   "source": [
    "gbm = GradientBoostingRegressor().fit(sc_train,Ytrain)"
   ]
  },
  {
   "cell_type": "code",
   "execution_count": 183,
   "metadata": {
    "collapsed": false
   },
   "outputs": [
    {
     "name": "stdout",
     "output_type": "stream",
     "text": [
      "9857.1952151\n",
      "9827.90497337\n"
     ]
    }
   ],
   "source": [
    "print np.sqrt(mean_squared_error(gbm.predict(sc_train),Ytrain))\n",
    "print np.sqrt(mean_squared_error(gbm.predict(sc_test),Ytest))"
   ]
  },
  {
   "cell_type": "code",
   "execution_count": 184,
   "metadata": {
    "collapsed": false
   },
   "outputs": [],
   "source": [
    "rf = RandomForestRegressor(n_estimators=10, max_depth=15, min_samples_split=10).fit(sc_train,Ytrain)"
   ]
  },
  {
   "cell_type": "code",
   "execution_count": 185,
   "metadata": {
    "collapsed": false
   },
   "outputs": [
    {
     "name": "stdout",
     "output_type": "stream",
     "text": [
      "4246.08898939\n",
      "4889.06217826\n"
     ]
    }
   ],
   "source": [
    "print np.sqrt(mean_squared_error(rf.predict(sc_train),Ytrain))\n",
    "print np.sqrt(mean_squared_error(rf.predict(sc_test),Ytest))"
   ]
  },
  {
   "cell_type": "markdown",
   "metadata": {},
   "source": [
    "# Predicting Sales value for test data"
   ]
  },
  {
   "cell_type": "code",
   "execution_count": 187,
   "metadata": {
    "collapsed": false
   },
   "outputs": [],
   "source": [
    "test1 = sc.transform(test[X1.columns])"
   ]
  },
  {
   "cell_type": "code",
   "execution_count": 192,
   "metadata": {
    "collapsed": false
   },
   "outputs": [],
   "source": [
    "p = pd.concat([test.Store.astype(str).str.cat(test.Dept.astype(str), sep='_').str.cat(test.Date.astype(str), sep='_'),\n",
    "           pd.DataFrame(rf.predict(test1))], axis=1)"
   ]
  },
  {
   "cell_type": "code",
   "execution_count": 195,
   "metadata": {
    "collapsed": false
   },
   "outputs": [],
   "source": [
    "p.columns = ['Store_Dept_Date', 'Weekly_Sales']"
   ]
  },
  {
   "cell_type": "code",
   "execution_count": 202,
   "metadata": {
    "collapsed": false
   },
   "outputs": [],
   "source": [
    "p.to_csv('Submission_Walmart_Sales.csv', index=0)"
   ]
  },
  {
   "cell_type": "code",
   "execution_count": null,
   "metadata": {
    "collapsed": true
   },
   "outputs": [],
   "source": []
  }
 ],
 "metadata": {
  "kernelspec": {
   "display_name": "Python 2",
   "language": "python",
   "name": "python2"
  },
  "language_info": {
   "codemirror_mode": {
    "name": "ipython",
    "version": 2
   },
   "file_extension": ".py",
   "mimetype": "text/x-python",
   "name": "python",
   "nbconvert_exporter": "python",
   "pygments_lexer": "ipython2",
   "version": "2.7.13"
  }
 },
 "nbformat": 4,
 "nbformat_minor": 2
}
